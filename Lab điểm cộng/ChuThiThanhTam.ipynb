{
 "cells": [
  {
   "cell_type": "markdown",
   "metadata": {},
   "source": [
    "# LAB ĐIỂM CỘNG\n"
   ]
  },
  {
   "cell_type": "markdown",
   "metadata": {},
   "source": [
    "## Python (15)"
   ]
  },
  {
   "cell_type": "markdown",
   "metadata": {},
   "source": [
    "### Q1 (1)\n",
    "Rename this file as `{fullname}.ipynb`."
   ]
  },
  {
   "cell_type": "markdown",
   "metadata": {},
   "source": [
    "### Q2 (1)\n",
    "Create variable name `my_name` as string and assign your name to this variable.\n",
    "Print the `my_name`."
   ]
  },
  {
   "cell_type": "code",
   "execution_count": 47,
   "metadata": {},
   "outputs": [
    {
     "data": {
      "text/plain": [
       "'Chu Thi Thanh Tam'"
      ]
     },
     "execution_count": 47,
     "metadata": {},
     "output_type": "execute_result"
    }
   ],
   "source": [
    "my_name = \"Chu Thi Thanh Tam\" # tạo biến my_name\n",
    "my_name # in ra dữ liệu my_name"
   ]
  },
  {
   "cell_type": "markdown",
   "metadata": {},
   "source": [
    "### Q3 (2)\n",
    "Develop class `DAStudent` with the following attributes\n",
    "\n",
    "- `student_id`:str -> vlu student id that start with `st`\n",
    "- `name`:str -> Name of the associated student\n",
    "- `score`:float -> Score of the midterm exam. The range is `[0.0, 100.0]`\n",
    "\n",
    "During the object creation, assign `student_id` and `name`. The `score` is set as `0.0` by default.\n",
    "\n",
    "`s1 = DAStudent('207CT20000', 'Mr. Jo')`"
   ]
  },
  {
   "cell_type": "code",
   "execution_count": 48,
   "metadata": {},
   "outputs": [
    {
     "ename": "ValueError",
     "evalue": "ID sinh viên VLU phải bắt đầu bằng 'st'",
     "output_type": "error",
     "traceback": [
      "\u001b[1;31m---------------------------------------------------------------------------\u001b[0m",
      "\u001b[1;31mValueError\u001b[0m                                Traceback (most recent call last)",
      "Cell \u001b[1;32mIn[48], line 23\u001b[0m\n\u001b[0;32m     20\u001b[0m         \u001b[38;5;28;01mreturn\u001b[39;00m \u001b[38;5;124mf\u001b[39m\u001b[38;5;124m\"\u001b[39m\u001b[38;5;124mstudent_id = \u001b[39m\u001b[38;5;132;01m{\u001b[39;00m\u001b[38;5;28mself\u001b[39m\u001b[38;5;241m.\u001b[39mstudent_id\u001b[38;5;132;01m}\u001b[39;00m\u001b[38;5;124m \u001b[39m\u001b[38;5;130;01m\\n\u001b[39;00m\u001b[38;5;124mname = \u001b[39m\u001b[38;5;132;01m{\u001b[39;00m\u001b[38;5;28mself\u001b[39m\u001b[38;5;241m.\u001b[39mname\u001b[38;5;132;01m}\u001b[39;00m\u001b[38;5;124m \u001b[39m\u001b[38;5;130;01m\\n\u001b[39;00m\u001b[38;5;124mscore = \u001b[39m\u001b[38;5;132;01m{\u001b[39;00m\u001b[38;5;28mself\u001b[39m\u001b[38;5;241m.\u001b[39mscore\u001b[38;5;132;01m}\u001b[39;00m\u001b[38;5;124m\"\u001b[39m \u001b[38;5;66;03m# xuất ra đổi tượng \u001b[39;00m\n\u001b[0;32m     22\u001b[0m \u001b[38;5;66;03m# tạo đối tượng s1\u001b[39;00m\n\u001b[1;32m---> 23\u001b[0m s1 \u001b[38;5;241m=\u001b[39m \u001b[43mDAStudent\u001b[49m\u001b[43m(\u001b[49m\u001b[38;5;124;43m'\u001b[39;49m\u001b[38;5;124;43m207CT20000\u001b[39;49m\u001b[38;5;124;43m'\u001b[39;49m\u001b[43m,\u001b[49m\u001b[43m \u001b[49m\u001b[38;5;124;43m'\u001b[39;49m\u001b[38;5;124;43mMr. Jo\u001b[39;49m\u001b[38;5;124;43m'\u001b[39;49m\u001b[43m)\u001b[49m\n\u001b[0;32m     25\u001b[0m \u001b[38;5;66;03m# xuất s1\u001b[39;00m\n\u001b[0;32m     26\u001b[0m s1\n",
      "Cell \u001b[1;32mIn[48], line 8\u001b[0m, in \u001b[0;36mDAStudent.__init__\u001b[1;34m(self, student_id, name, score)\u001b[0m\n\u001b[0;32m      6\u001b[0m     \u001b[38;5;28mself\u001b[39m\u001b[38;5;241m.\u001b[39mstudent_id \u001b[38;5;241m=\u001b[39m student_id  \u001b[38;5;66;03m# Gán giá trị student_id\u001b[39;00m\n\u001b[0;32m      7\u001b[0m \u001b[38;5;28;01melse\u001b[39;00m:\n\u001b[1;32m----> 8\u001b[0m     \u001b[38;5;28;01mraise\u001b[39;00m \u001b[38;5;167;01mValueError\u001b[39;00m(\u001b[38;5;124m\"\u001b[39m\u001b[38;5;124mID sinh viên VLU phải bắt đầu bằng \u001b[39m\u001b[38;5;124m'\u001b[39m\u001b[38;5;124mst\u001b[39m\u001b[38;5;124m'\u001b[39m\u001b[38;5;124m\"\u001b[39m)  \u001b[38;5;66;03m# báo lỗi nếu ID không hợp lệ\u001b[39;00m\n\u001b[0;32m     10\u001b[0m \u001b[38;5;66;03m# gán giá trị name\u001b[39;00m\n\u001b[0;32m     11\u001b[0m \u001b[38;5;28mself\u001b[39m\u001b[38;5;241m.\u001b[39mname \u001b[38;5;241m=\u001b[39m name\n",
      "\u001b[1;31mValueError\u001b[0m: ID sinh viên VLU phải bắt đầu bằng 'st'"
     ]
    }
   ],
   "source": [
    "class DAStudent:\n",
    "    # khởi tạo tham số student_id: string, name: string, score: float mặc định là 0.0\n",
    "    def __init__(self, student_id: str, name: str, score: float = 0.0):\n",
    "        # kiểm tra student_id bắt đầu bằng 'st'\n",
    "        if student_id.startswith('st'):\n",
    "            self.student_id = student_id  # Gán giá trị student_id\n",
    "        else:\n",
    "            raise ValueError(\"ID sinh viên VLU phải bắt đầu bằng 'st'\")  # báo lỗi nếu ID không hợp lệ\n",
    "        \n",
    "        # gán giá trị name\n",
    "        self.name = name\n",
    "        \n",
    "        # kiểm tra xem điểm số có nằm trong khoảng [0.0, 100.0]\n",
    "        if 0.0 <= score <= 100.0:\n",
    "            self.score = score  # gán giá trị score\n",
    "        else:\n",
    "            raise ValueError(\"Điểm số phải nằm trong khoảng từ 0.0 đến 100.0\")  # báo lỗi nếu điểm không hợp lệ\n",
    "    \n",
    "    def __repr__(self): # trả về chuỗi đối tượng\n",
    "        return f\"student_id = {self.student_id} \\nname = {self.name} \\nscore = {self.score}\" # xuất ra đổi tượng \n",
    "\n",
    "# tạo đối tượng s1\n",
    "s1 = DAStudent('207CT20000', 'Mr. Jo')\n",
    "\n",
    "# xuất s1\n",
    "s1\n"
   ]
  },
  {
   "cell_type": "markdown",
   "metadata": {},
   "source": [
    "### Q4 (2)\n",
    "\n",
    "Modify the class `DAStudent` to have function `LAB that takes `float` as the input.\n",
    "This function will assign the input to `DAStudent.score`.\n",
    "\n",
    "Example\n",
    "\n",
    "```python\n",
    "s1.lab(50.5)\n",
    "print(s1.score)\n",
    ">>> 50.5\n",
    "```\n",
    "\n",
    "### Q5 (3)\n",
    "\n",
    "Check the correctness of the input. Inform the user when the input is wrong.\n",
    "\n",
    "*Hint: You will only get full mark if you use `raise`.*\n",
    "\n",
    "Example 1:\n",
    "\n",
    "```python\n",
    "s1.lab(150)\n",
    ">>> ValueError: Some message\n",
    "```\n",
    "\n",
    "Example 2:\n",
    "\n",
    "```python\n",
    "s1.lab('150')\n",
    ">>> ValueError: Some message\n",
    "```"
   ]
  },
  {
   "cell_type": "code",
   "execution_count": null,
   "metadata": {},
   "outputs": [],
   "source": [
    "def lab(self, score: float): # khởi tạo lab có score: float\n",
    "        # kiểm tra input có phải là float và nằm trong khoảng [0.0, 100.0]\n",
    "        if isinstance(score, float) and 0.0 <= score <= 100.0:\n",
    "            self.score = score  # gán giá trị score\n",
    "        else: # ngược lại\n",
    "            raise ValueError(\"ValueError: Điểm số phải là số thực và nằm trong khoảng từ 0.0 đến 100.0\")  # báo lỗi nếu điểm không hợp lệ"
   ]
  },
  {
   "cell_type": "code",
   "execution_count": null,
   "metadata": {},
   "outputs": [
    {
     "name": "stdout",
     "output_type": "stream",
     "text": [
      "50.5\n",
      "ValueError: Điểm số phải là số thực và nằm trong khoảng từ 0.0 đến 100.0\n"
     ]
    }
   ],
   "source": [
    "def __repr__(self):  # trả về chuỗi đối tượng\n",
    "        return f\"student_id = {self.student_id} \\nname = {self.name} \\nscore = {self.score}\"  # xuất ra đối tượng\n",
    "\n",
    "# tạo đối tượng s1\n",
    "s1 = DAStudent('st207CT20000', 'Mr. Jo')\n",
    "\n",
    "# hàm lab: nhập score \n",
    "s1.lab(50.5)\n",
    "\n",
    "# xuất giá trị score\n",
    "print(s1.score)\n",
    "\n",
    "# kiểm tra tính hợp lệ của score\n",
    "try:\n",
    "    s1.lab(150)\n",
    "except ValueError as e: # xem thông báo lỗi ValueError\n",
    "    print(e)"
   ]
  },
  {
   "cell_type": "markdown",
   "metadata": {},
   "source": [
    "### Q6 (6)\n",
    "\n",
    "Once upon a time in the magical land, there are two engineer beavers living together. \n",
    "\n",
    "\n",
    "Their hobby is to build a dam out of wood.\n",
    "\n",
    "\n",
    "Years and years, dam after another dam, one of engineer beaver get bored. The beaver wants a better life. A more accurate calculation of dam not just keep building it anymore.\n",
    "\n",
    "\n",
    "Now, they are deploying a rain sensor to collect data which will be used to predict water level of the river.\n",
    "\n",
    "Finally, with their new skill set and hardworking, a predictor is obtained. They named their invention `The Oracle of the Dam (TOTD)`.\n",
    "\n",
    "However, the `TOTD` only predicts the water level. \n",
    "\n",
    "The engineer/data scientist beavers still needs to build the dam themselves but this time, it will be the most efficient dam of the beaver land ever.\n",
    "\n",
    "Every 2 meters of the water level, the dam needs to be build 1 level higher. And every log (*) uses will cost $3.5.\n",
    "\n",
    "Here is how the 3-level dam look like from the cross section view\n",
    "\n",
    "```\n",
    "l_3   *\n",
    "l_2  ***\n",
    "l_1 *****\n",
    "```\n",
    "\n",
    "Here is how much this project will cost\n",
    "\n",
    "```\n",
    "Number of logs: 9\n",
    "Cost: $31.5\n",
    "```\n",
    "\n",
    "\n",
    "Your task is simple, write a function `dam_design` that takes `water_level` as an input. Print the design of the dam and summarize the material and cost.\n",
    "\n",
    "Example 1:\n",
    "```python\n",
    "dam_design(0)\n",
    ">>> *\n",
    ">>> Number of logs: 1\n",
    ">>> Cost: $3.5\n",
    "```\n",
    "\n",
    "Example 2:\n",
    "```python\n",
    "dam_design(1)\n",
    ">>> *\n",
    ">>> Number of logs: 1\n",
    ">>> Cost: $3.5\n",
    "```\n",
    "\n",
    "Example 3:\n",
    "```python\n",
    "dam_design(2)\n",
    ">>>  *\n",
    ">>> ***\n",
    ">>> Number of logs: 4\n",
    ">>> Cost: $14.0\n",
    "```\n",
    "\n",
    "Example 4:\n",
    "```python\n",
    "dam_design(3)\n",
    ">>>  *\n",
    ">>> ***\n",
    ">>> Number of logs: 4\n",
    ">>> Cost: $14.0\n",
    "```\n",
    "\n",
    "Example 5:\n",
    "```python\n",
    "dam_design(4)\n",
    ">>>   *\n",
    ">>>  ***\n",
    ">>> *****\n",
    ">>> Number of logs: 9\n",
    ">>> Cost: $31.5\n",
    "```"
   ]
  },
  {
   "cell_type": "code",
   "execution_count": null,
   "metadata": {},
   "outputs": [
    {
     "name": "stdout",
     "output_type": "stream",
     "text": [
      "Example 1:\n",
      "*\n",
      "Number of logs: 1\n",
      "Cost: $3.5\n",
      "\n",
      "Example 2:\n",
      "*\n",
      "Number of logs: 1\n",
      "Cost: $3.5\n",
      "\n",
      "Example 3:\n",
      " *\n",
      "***\n",
      "Number of logs: 4\n",
      "Cost: $14.0\n",
      "\n",
      "Example 4:\n",
      " *\n",
      "***\n",
      "Number of logs: 4\n",
      "Cost: $14.0\n",
      "\n",
      "Example 5:\n",
      "  *\n",
      " ***\n",
      "*****\n",
      "Number of logs: 9\n",
      "Cost: $31.5\n"
     ]
    }
   ],
   "source": [
    "def dam_design(water_level): # khởi tạo hàm dam_design có input là water_level\n",
    "    # tính số bậc của đập dựa trên mực nước\n",
    "    tiers = (water_level + 2) // 2\n",
    "    \n",
    "    # khởi tạo biến đếm số lượng nhật ký\n",
    "    num_logs = 0\n",
    "    \n",
    "    # tạo vòng lặp for tính số bậc\n",
    "    for i in range(tiers): \n",
    "        logs = 1 + 2 * i  # số lượng nhật ký trong mỗi bậc\n",
    "        num_logs += logs # cộng dồn số lượng\n",
    "        print(' ' * (tiers - i - 1) + '*' * logs)  # xuất ra đập\n",
    "        \n",
    "    # tính chi phí\n",
    "    cost = num_logs * 3.5\n",
    "    \n",
    "    # xuất ra tóm tắt vật liệu và chi phí\n",
    "    print(f\"Number of logs: {num_logs}\")\n",
    "    print(f\"Cost: ${cost:.1f}\")\n",
    "\n",
    "# Chạy các ví dụ\n",
    "print(\"Example 1:\")\n",
    "dam_design(0)\n",
    "\n",
    "print(\"\\nExample 2:\")\n",
    "dam_design(1)\n",
    "\n",
    "print(\"\\nExample 3:\")\n",
    "dam_design(2)\n",
    "\n",
    "print(\"\\nExample 4:\")\n",
    "dam_design(3)\n",
    "\n",
    "print(\"\\nExample 5:\")\n",
    "dam_design(4)"
   ]
  }
 ],
 "metadata": {
  "kernelspec": {
   "display_name": "Python 3.10.4 64-bit",
   "language": "python",
   "name": "python3"
  },
  "language_info": {
   "codemirror_mode": {
    "name": "ipython",
    "version": 3
   },
   "file_extension": ".py",
   "mimetype": "text/x-python",
   "name": "python",
   "nbconvert_exporter": "python",
   "pygments_lexer": "ipython3",
   "version": "3.10.11"
  },
  "orig_nbformat": 4,
  "vscode": {
   "interpreter": {
    "hash": "916dbcbb3f70747c44a77c7bcd40155683ae19c65e1c03b4aa3499c5328201f1"
   }
  }
 },
 "nbformat": 4,
 "nbformat_minor": 2
}
